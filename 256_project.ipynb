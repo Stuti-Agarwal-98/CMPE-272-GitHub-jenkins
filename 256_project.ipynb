{
  "nbformat": 4,
  "nbformat_minor": 0,
  "metadata": {
    "colab": {
      "name": "Untitled1.ipynb",
      "provenance": [],
      "authorship_tag": "ABX9TyNaVkpwt1HdgrzG3p7D5KY4",
      "include_colab_link": true
    },
    "kernelspec": {
      "name": "python3",
      "display_name": "Python 3"
    }
  },
  "cells": [
    {
      "cell_type": "markdown",
      "metadata": {
        "id": "view-in-github",
        "colab_type": "text"
      },
      "source": [
        "<a href=\"https://colab.research.google.com/github/Stuti-Agarwal-98/CMPE-272-GitHub-jenkins/blob/main/256_project.ipynb\" target=\"_parent\"><img src=\"https://colab.research.google.com/assets/colab-badge.svg\" alt=\"Open In Colab\"/></a>"
      ]
    },
    {
      "cell_type": "code",
      "metadata": {
        "id": "eP0dfEdOB-ZS",
        "outputId": "a1a56c4a-891c-4d9e-f415-4caa1b43f984",
        "colab": {
          "base_uri": "https://localhost:8080/"
        }
      },
      "source": [
        "from google.colab import drive\n",
        "drive.mount('/content/drive')"
      ],
      "execution_count": 1,
      "outputs": [
        {
          "output_type": "stream",
          "text": [
            "Mounted at /content/drive\n"
          ],
          "name": "stdout"
        }
      ]
    },
    {
      "cell_type": "code",
      "metadata": {
        "id": "wazaj8x8CIha",
        "outputId": "b490b9e1-fb4b-4388-ed48-917f6cba0fc9",
        "colab": {
          "base_uri": "https://localhost:8080/",
          "height": 1000
        }
      },
      "source": [
        "import pandas as pd\n",
        "import matplotlib.pyplot as plt\n",
        "import numpy as np\n",
        "import seaborn as sns\n",
        "## Loading Data\n",
        "Nov_df = pd.read_csv('/content/drive/My Drive/256 Project/2019-Nov.csv',nrows=10000 ,sep=',',engine='python')\n",
        "Oct_df = pd.read_csv('/content/drive/My Drive/256 Project/2019-Oct.csv',nrows=10000 ,sep=',',engine='python')\n",
        "#Nov_df.describe(include='all')\n",
        "Oct_df.head(20)"
      ],
      "execution_count": 36,
      "outputs": [
        {
          "output_type": "execute_result",
          "data": {
            "text/html": [
              "<div>\n",
              "<style scoped>\n",
              "    .dataframe tbody tr th:only-of-type {\n",
              "        vertical-align: middle;\n",
              "    }\n",
              "\n",
              "    .dataframe tbody tr th {\n",
              "        vertical-align: top;\n",
              "    }\n",
              "\n",
              "    .dataframe thead th {\n",
              "        text-align: right;\n",
              "    }\n",
              "</style>\n",
              "<table border=\"1\" class=\"dataframe\">\n",
              "  <thead>\n",
              "    <tr style=\"text-align: right;\">\n",
              "      <th></th>\n",
              "      <th>event_time</th>\n",
              "      <th>event_type</th>\n",
              "      <th>product_id</th>\n",
              "      <th>category_id</th>\n",
              "      <th>category_code</th>\n",
              "      <th>brand</th>\n",
              "      <th>price</th>\n",
              "      <th>user_id</th>\n",
              "      <th>user_session</th>\n",
              "    </tr>\n",
              "  </thead>\n",
              "  <tbody>\n",
              "    <tr>\n",
              "      <th>0</th>\n",
              "      <td>2019-10-01 00:00:00 UTC</td>\n",
              "      <td>view</td>\n",
              "      <td>44600062</td>\n",
              "      <td>2103807459595387724</td>\n",
              "      <td>NaN</td>\n",
              "      <td>shiseido</td>\n",
              "      <td>35.79</td>\n",
              "      <td>541312140</td>\n",
              "      <td>72d76fde-8bb3-4e00-8c23-a032dfed738c</td>\n",
              "    </tr>\n",
              "    <tr>\n",
              "      <th>1</th>\n",
              "      <td>2019-10-01 00:00:00 UTC</td>\n",
              "      <td>view</td>\n",
              "      <td>3900821</td>\n",
              "      <td>2053013552326770905</td>\n",
              "      <td>appliances.environment.water_heater</td>\n",
              "      <td>aqua</td>\n",
              "      <td>33.20</td>\n",
              "      <td>554748717</td>\n",
              "      <td>9333dfbd-b87a-4708-9857-6336556b0fcc</td>\n",
              "    </tr>\n",
              "    <tr>\n",
              "      <th>2</th>\n",
              "      <td>2019-10-01 00:00:01 UTC</td>\n",
              "      <td>view</td>\n",
              "      <td>17200506</td>\n",
              "      <td>2053013559792632471</td>\n",
              "      <td>furniture.living_room.sofa</td>\n",
              "      <td>NaN</td>\n",
              "      <td>543.10</td>\n",
              "      <td>519107250</td>\n",
              "      <td>566511c2-e2e3-422b-b695-cf8e6e792ca8</td>\n",
              "    </tr>\n",
              "    <tr>\n",
              "      <th>3</th>\n",
              "      <td>2019-10-01 00:00:01 UTC</td>\n",
              "      <td>view</td>\n",
              "      <td>1307067</td>\n",
              "      <td>2053013558920217191</td>\n",
              "      <td>computers.notebook</td>\n",
              "      <td>lenovo</td>\n",
              "      <td>251.74</td>\n",
              "      <td>550050854</td>\n",
              "      <td>7c90fc70-0e80-4590-96f3-13c02c18c713</td>\n",
              "    </tr>\n",
              "    <tr>\n",
              "      <th>4</th>\n",
              "      <td>2019-10-01 00:00:04 UTC</td>\n",
              "      <td>view</td>\n",
              "      <td>1004237</td>\n",
              "      <td>2053013555631882655</td>\n",
              "      <td>electronics.smartphone</td>\n",
              "      <td>apple</td>\n",
              "      <td>1081.98</td>\n",
              "      <td>535871217</td>\n",
              "      <td>c6bd7419-2748-4c56-95b4-8cec9ff8b80d</td>\n",
              "    </tr>\n",
              "    <tr>\n",
              "      <th>5</th>\n",
              "      <td>2019-10-01 00:00:05 UTC</td>\n",
              "      <td>view</td>\n",
              "      <td>1480613</td>\n",
              "      <td>2053013561092866779</td>\n",
              "      <td>computers.desktop</td>\n",
              "      <td>pulser</td>\n",
              "      <td>908.62</td>\n",
              "      <td>512742880</td>\n",
              "      <td>0d0d91c2-c9c2-4e81-90a5-86594dec0db9</td>\n",
              "    </tr>\n",
              "    <tr>\n",
              "      <th>6</th>\n",
              "      <td>2019-10-01 00:00:08 UTC</td>\n",
              "      <td>view</td>\n",
              "      <td>17300353</td>\n",
              "      <td>2053013553853497655</td>\n",
              "      <td>NaN</td>\n",
              "      <td>creed</td>\n",
              "      <td>380.96</td>\n",
              "      <td>555447699</td>\n",
              "      <td>4fe811e9-91de-46da-90c3-bbd87ed3a65d</td>\n",
              "    </tr>\n",
              "    <tr>\n",
              "      <th>7</th>\n",
              "      <td>2019-10-01 00:00:08 UTC</td>\n",
              "      <td>view</td>\n",
              "      <td>31500053</td>\n",
              "      <td>2053013558031024687</td>\n",
              "      <td>NaN</td>\n",
              "      <td>luminarc</td>\n",
              "      <td>41.16</td>\n",
              "      <td>550978835</td>\n",
              "      <td>6280d577-25c8-4147-99a7-abc6048498d6</td>\n",
              "    </tr>\n",
              "    <tr>\n",
              "      <th>8</th>\n",
              "      <td>2019-10-01 00:00:10 UTC</td>\n",
              "      <td>view</td>\n",
              "      <td>28719074</td>\n",
              "      <td>2053013565480109009</td>\n",
              "      <td>apparel.shoes.keds</td>\n",
              "      <td>baden</td>\n",
              "      <td>102.71</td>\n",
              "      <td>520571932</td>\n",
              "      <td>ac1cd4e5-a3ce-4224-a2d7-ff660a105880</td>\n",
              "    </tr>\n",
              "    <tr>\n",
              "      <th>9</th>\n",
              "      <td>2019-10-01 00:00:11 UTC</td>\n",
              "      <td>view</td>\n",
              "      <td>1004545</td>\n",
              "      <td>2053013555631882655</td>\n",
              "      <td>electronics.smartphone</td>\n",
              "      <td>huawei</td>\n",
              "      <td>566.01</td>\n",
              "      <td>537918940</td>\n",
              "      <td>406c46ed-90a4-4787-a43b-59a410c1a5fb</td>\n",
              "    </tr>\n",
              "    <tr>\n",
              "      <th>10</th>\n",
              "      <td>2019-10-01 00:00:11 UTC</td>\n",
              "      <td>view</td>\n",
              "      <td>2900536</td>\n",
              "      <td>2053013554776244595</td>\n",
              "      <td>appliances.kitchen.microwave</td>\n",
              "      <td>elenberg</td>\n",
              "      <td>51.46</td>\n",
              "      <td>555158050</td>\n",
              "      <td>b5bdd0b3-4ca2-4c55-939e-9ce44bb50abd</td>\n",
              "    </tr>\n",
              "    <tr>\n",
              "      <th>11</th>\n",
              "      <td>2019-10-01 00:00:11 UTC</td>\n",
              "      <td>view</td>\n",
              "      <td>1005011</td>\n",
              "      <td>2053013555631882655</td>\n",
              "      <td>electronics.smartphone</td>\n",
              "      <td>samsung</td>\n",
              "      <td>900.64</td>\n",
              "      <td>530282093</td>\n",
              "      <td>50a293fb-5940-41b2-baf3-17af0e812101</td>\n",
              "    </tr>\n",
              "    <tr>\n",
              "      <th>12</th>\n",
              "      <td>2019-10-01 00:00:13 UTC</td>\n",
              "      <td>view</td>\n",
              "      <td>3900746</td>\n",
              "      <td>2053013552326770905</td>\n",
              "      <td>appliances.environment.water_heater</td>\n",
              "      <td>haier</td>\n",
              "      <td>102.38</td>\n",
              "      <td>555444559</td>\n",
              "      <td>98b88fa0-d8fa-4b9d-8a71-3dd403afab85</td>\n",
              "    </tr>\n",
              "    <tr>\n",
              "      <th>13</th>\n",
              "      <td>2019-10-01 00:00:15 UTC</td>\n",
              "      <td>view</td>\n",
              "      <td>44600062</td>\n",
              "      <td>2103807459595387724</td>\n",
              "      <td>NaN</td>\n",
              "      <td>shiseido</td>\n",
              "      <td>35.79</td>\n",
              "      <td>541312140</td>\n",
              "      <td>72d76fde-8bb3-4e00-8c23-a032dfed738c</td>\n",
              "    </tr>\n",
              "    <tr>\n",
              "      <th>14</th>\n",
              "      <td>2019-10-01 00:00:16 UTC</td>\n",
              "      <td>view</td>\n",
              "      <td>13500240</td>\n",
              "      <td>2053013557099889147</td>\n",
              "      <td>furniture.bedroom.bed</td>\n",
              "      <td>brw</td>\n",
              "      <td>93.18</td>\n",
              "      <td>555446365</td>\n",
              "      <td>7f0062d8-ead0-4e0a-96f6-43a0b79a2fc4</td>\n",
              "    </tr>\n",
              "    <tr>\n",
              "      <th>15</th>\n",
              "      <td>2019-10-01 00:00:17 UTC</td>\n",
              "      <td>view</td>\n",
              "      <td>23100006</td>\n",
              "      <td>2053013561638126333</td>\n",
              "      <td>NaN</td>\n",
              "      <td>NaN</td>\n",
              "      <td>357.79</td>\n",
              "      <td>513642368</td>\n",
              "      <td>17566c27-0a8f-4506-9f30-c6a2ccbf583b</td>\n",
              "    </tr>\n",
              "    <tr>\n",
              "      <th>16</th>\n",
              "      <td>2019-10-01 00:00:18 UTC</td>\n",
              "      <td>view</td>\n",
              "      <td>1801995</td>\n",
              "      <td>2053013554415534427</td>\n",
              "      <td>electronics.video.tv</td>\n",
              "      <td>haier</td>\n",
              "      <td>193.03</td>\n",
              "      <td>537192226</td>\n",
              "      <td>e3151795-c355-4efa-acf6-e1fe1bebeee5</td>\n",
              "    </tr>\n",
              "    <tr>\n",
              "      <th>17</th>\n",
              "      <td>2019-10-01 00:00:18 UTC</td>\n",
              "      <td>view</td>\n",
              "      <td>10900029</td>\n",
              "      <td>2053013555069845885</td>\n",
              "      <td>appliances.kitchen.mixer</td>\n",
              "      <td>bosch</td>\n",
              "      <td>58.95</td>\n",
              "      <td>519528062</td>\n",
              "      <td>901b9e3c-3f8f-4147-a442-c25d5c5ed332</td>\n",
              "    </tr>\n",
              "    <tr>\n",
              "      <th>18</th>\n",
              "      <td>2019-10-01 00:00:19 UTC</td>\n",
              "      <td>view</td>\n",
              "      <td>1306631</td>\n",
              "      <td>2053013558920217191</td>\n",
              "      <td>computers.notebook</td>\n",
              "      <td>hp</td>\n",
              "      <td>580.89</td>\n",
              "      <td>550050854</td>\n",
              "      <td>7c90fc70-0e80-4590-96f3-13c02c18c713</td>\n",
              "    </tr>\n",
              "    <tr>\n",
              "      <th>19</th>\n",
              "      <td>2019-10-01 00:00:19 UTC</td>\n",
              "      <td>view</td>\n",
              "      <td>1005135</td>\n",
              "      <td>2053013555631882655</td>\n",
              "      <td>electronics.smartphone</td>\n",
              "      <td>apple</td>\n",
              "      <td>1747.79</td>\n",
              "      <td>535871217</td>\n",
              "      <td>c6bd7419-2748-4c56-95b4-8cec9ff8b80d</td>\n",
              "    </tr>\n",
              "  </tbody>\n",
              "</table>\n",
              "</div>"
            ],
            "text/plain": [
              "                 event_time  ...                          user_session\n",
              "0   2019-10-01 00:00:00 UTC  ...  72d76fde-8bb3-4e00-8c23-a032dfed738c\n",
              "1   2019-10-01 00:00:00 UTC  ...  9333dfbd-b87a-4708-9857-6336556b0fcc\n",
              "2   2019-10-01 00:00:01 UTC  ...  566511c2-e2e3-422b-b695-cf8e6e792ca8\n",
              "3   2019-10-01 00:00:01 UTC  ...  7c90fc70-0e80-4590-96f3-13c02c18c713\n",
              "4   2019-10-01 00:00:04 UTC  ...  c6bd7419-2748-4c56-95b4-8cec9ff8b80d\n",
              "5   2019-10-01 00:00:05 UTC  ...  0d0d91c2-c9c2-4e81-90a5-86594dec0db9\n",
              "6   2019-10-01 00:00:08 UTC  ...  4fe811e9-91de-46da-90c3-bbd87ed3a65d\n",
              "7   2019-10-01 00:00:08 UTC  ...  6280d577-25c8-4147-99a7-abc6048498d6\n",
              "8   2019-10-01 00:00:10 UTC  ...  ac1cd4e5-a3ce-4224-a2d7-ff660a105880\n",
              "9   2019-10-01 00:00:11 UTC  ...  406c46ed-90a4-4787-a43b-59a410c1a5fb\n",
              "10  2019-10-01 00:00:11 UTC  ...  b5bdd0b3-4ca2-4c55-939e-9ce44bb50abd\n",
              "11  2019-10-01 00:00:11 UTC  ...  50a293fb-5940-41b2-baf3-17af0e812101\n",
              "12  2019-10-01 00:00:13 UTC  ...  98b88fa0-d8fa-4b9d-8a71-3dd403afab85\n",
              "13  2019-10-01 00:00:15 UTC  ...  72d76fde-8bb3-4e00-8c23-a032dfed738c\n",
              "14  2019-10-01 00:00:16 UTC  ...  7f0062d8-ead0-4e0a-96f6-43a0b79a2fc4\n",
              "15  2019-10-01 00:00:17 UTC  ...  17566c27-0a8f-4506-9f30-c6a2ccbf583b\n",
              "16  2019-10-01 00:00:18 UTC  ...  e3151795-c355-4efa-acf6-e1fe1bebeee5\n",
              "17  2019-10-01 00:00:18 UTC  ...  901b9e3c-3f8f-4147-a442-c25d5c5ed332\n",
              "18  2019-10-01 00:00:19 UTC  ...  7c90fc70-0e80-4590-96f3-13c02c18c713\n",
              "19  2019-10-01 00:00:19 UTC  ...  c6bd7419-2748-4c56-95b4-8cec9ff8b80d\n",
              "\n",
              "[20 rows x 9 columns]"
            ]
          },
          "metadata": {
            "tags": []
          },
          "execution_count": 36
        }
      ]
    },
    {
      "cell_type": "code",
      "metadata": {
        "id": "2xqw2HxcDSsZ",
        "outputId": "318c91f0-9fd4-4635-8bdd-e45451932223",
        "colab": {
          "base_uri": "https://localhost:8080/",
          "height": 589
        }
      },
      "source": [
        "#product_unique=Nov_df['product_id'].value_counts()\n",
        "#product_unique\n",
        "#Oct_df['product_id'].value_counts()\n",
        "Oct_df[Oct_df['product_id']==1004856]\n",
        "#Oct_df.info()"
      ],
      "execution_count": 39,
      "outputs": [
        {
          "output_type": "execute_result",
          "data": {
            "text/html": [
              "<div>\n",
              "<style scoped>\n",
              "    .dataframe tbody tr th:only-of-type {\n",
              "        vertical-align: middle;\n",
              "    }\n",
              "\n",
              "    .dataframe tbody tr th {\n",
              "        vertical-align: top;\n",
              "    }\n",
              "\n",
              "    .dataframe thead th {\n",
              "        text-align: right;\n",
              "    }\n",
              "</style>\n",
              "<table border=\"1\" class=\"dataframe\">\n",
              "  <thead>\n",
              "    <tr style=\"text-align: right;\">\n",
              "      <th></th>\n",
              "      <th>event_time</th>\n",
              "      <th>event_type</th>\n",
              "      <th>product_id</th>\n",
              "      <th>category_id</th>\n",
              "      <th>category_code</th>\n",
              "      <th>brand</th>\n",
              "      <th>price</th>\n",
              "      <th>user_id</th>\n",
              "      <th>user_session</th>\n",
              "    </tr>\n",
              "  </thead>\n",
              "  <tbody>\n",
              "    <tr>\n",
              "      <th>79</th>\n",
              "      <td>2019-10-01 00:01:06 UTC</td>\n",
              "      <td>view</td>\n",
              "      <td>1004856</td>\n",
              "      <td>2053013555631882655</td>\n",
              "      <td>electronics.smartphone</td>\n",
              "      <td>samsung</td>\n",
              "      <td>130.76</td>\n",
              "      <td>555447788</td>\n",
              "      <td>94c1a98c-41a3-401e-ad99-439beac4495c</td>\n",
              "    </tr>\n",
              "    <tr>\n",
              "      <th>91</th>\n",
              "      <td>2019-10-01 00:01:17 UTC</td>\n",
              "      <td>view</td>\n",
              "      <td>1004856</td>\n",
              "      <td>2053013555631882655</td>\n",
              "      <td>electronics.smartphone</td>\n",
              "      <td>samsung</td>\n",
              "      <td>130.76</td>\n",
              "      <td>515757896</td>\n",
              "      <td>4938043e-e50f-44ad-944d-958d04df62d6</td>\n",
              "    </tr>\n",
              "    <tr>\n",
              "      <th>129</th>\n",
              "      <td>2019-10-01 00:01:46 UTC</td>\n",
              "      <td>view</td>\n",
              "      <td>1004856</td>\n",
              "      <td>2053013555631882655</td>\n",
              "      <td>electronics.smartphone</td>\n",
              "      <td>samsung</td>\n",
              "      <td>130.76</td>\n",
              "      <td>543272936</td>\n",
              "      <td>8187d148-3c41-46d4-b0c0-9c08cd9dc564</td>\n",
              "    </tr>\n",
              "    <tr>\n",
              "      <th>142</th>\n",
              "      <td>2019-10-01 00:01:59 UTC</td>\n",
              "      <td>view</td>\n",
              "      <td>1004856</td>\n",
              "      <td>2053013555631882655</td>\n",
              "      <td>electronics.smartphone</td>\n",
              "      <td>samsung</td>\n",
              "      <td>130.76</td>\n",
              "      <td>513457407</td>\n",
              "      <td>d6f9a1f2-f96f-4220-b393-ec697a3183c5</td>\n",
              "    </tr>\n",
              "    <tr>\n",
              "      <th>162</th>\n",
              "      <td>2019-10-01 00:02:14 UTC</td>\n",
              "      <td>purchase</td>\n",
              "      <td>1004856</td>\n",
              "      <td>2053013555631882655</td>\n",
              "      <td>electronics.smartphone</td>\n",
              "      <td>samsung</td>\n",
              "      <td>130.76</td>\n",
              "      <td>543272936</td>\n",
              "      <td>8187d148-3c41-46d4-b0c0-9c08cd9dc564</td>\n",
              "    </tr>\n",
              "    <tr>\n",
              "      <th>...</th>\n",
              "      <td>...</td>\n",
              "      <td>...</td>\n",
              "      <td>...</td>\n",
              "      <td>...</td>\n",
              "      <td>...</td>\n",
              "      <td>...</td>\n",
              "      <td>...</td>\n",
              "      <td>...</td>\n",
              "      <td>...</td>\n",
              "    </tr>\n",
              "    <tr>\n",
              "      <th>9739</th>\n",
              "      <td>2019-10-01 02:36:51 UTC</td>\n",
              "      <td>cart</td>\n",
              "      <td>1004856</td>\n",
              "      <td>2053013555631882655</td>\n",
              "      <td>electronics.smartphone</td>\n",
              "      <td>samsung</td>\n",
              "      <td>130.76</td>\n",
              "      <td>514129765</td>\n",
              "      <td>73624df5-835e-49eb-ac8b-4ef7ee26f071</td>\n",
              "    </tr>\n",
              "    <tr>\n",
              "      <th>9745</th>\n",
              "      <td>2019-10-01 02:36:51 UTC</td>\n",
              "      <td>view</td>\n",
              "      <td>1004856</td>\n",
              "      <td>2053013555631882655</td>\n",
              "      <td>electronics.smartphone</td>\n",
              "      <td>samsung</td>\n",
              "      <td>130.76</td>\n",
              "      <td>541899331</td>\n",
              "      <td>65862fc0-059a-4a41-8aa5-852e37202708</td>\n",
              "    </tr>\n",
              "    <tr>\n",
              "      <th>9752</th>\n",
              "      <td>2019-10-01 02:36:52 UTC</td>\n",
              "      <td>view</td>\n",
              "      <td>1004856</td>\n",
              "      <td>2053013555631882655</td>\n",
              "      <td>electronics.smartphone</td>\n",
              "      <td>samsung</td>\n",
              "      <td>130.76</td>\n",
              "      <td>534142828</td>\n",
              "      <td>d0132069-5827-4ebf-a1b3-b16496c9b396</td>\n",
              "    </tr>\n",
              "    <tr>\n",
              "      <th>9764</th>\n",
              "      <td>2019-10-01 02:36:53 UTC</td>\n",
              "      <td>view</td>\n",
              "      <td>1004856</td>\n",
              "      <td>2053013555631882655</td>\n",
              "      <td>electronics.smartphone</td>\n",
              "      <td>samsung</td>\n",
              "      <td>130.76</td>\n",
              "      <td>513417991</td>\n",
              "      <td>618e9a0d-92f7-490f-88bc-6f0b01d0c9f1</td>\n",
              "    </tr>\n",
              "    <tr>\n",
              "      <th>9773</th>\n",
              "      <td>2019-10-01 02:36:54 UTC</td>\n",
              "      <td>view</td>\n",
              "      <td>1004856</td>\n",
              "      <td>2053013555631882655</td>\n",
              "      <td>electronics.smartphone</td>\n",
              "      <td>samsung</td>\n",
              "      <td>130.76</td>\n",
              "      <td>512644437</td>\n",
              "      <td>4d49cbe8-007a-4fbd-ad5a-944eabdcee12</td>\n",
              "    </tr>\n",
              "  </tbody>\n",
              "</table>\n",
              "<p>128 rows × 9 columns</p>\n",
              "</div>"
            ],
            "text/plain": [
              "                   event_time  ...                          user_session\n",
              "79    2019-10-01 00:01:06 UTC  ...  94c1a98c-41a3-401e-ad99-439beac4495c\n",
              "91    2019-10-01 00:01:17 UTC  ...  4938043e-e50f-44ad-944d-958d04df62d6\n",
              "129   2019-10-01 00:01:46 UTC  ...  8187d148-3c41-46d4-b0c0-9c08cd9dc564\n",
              "142   2019-10-01 00:01:59 UTC  ...  d6f9a1f2-f96f-4220-b393-ec697a3183c5\n",
              "162   2019-10-01 00:02:14 UTC  ...  8187d148-3c41-46d4-b0c0-9c08cd9dc564\n",
              "...                       ...  ...                                   ...\n",
              "9739  2019-10-01 02:36:51 UTC  ...  73624df5-835e-49eb-ac8b-4ef7ee26f071\n",
              "9745  2019-10-01 02:36:51 UTC  ...  65862fc0-059a-4a41-8aa5-852e37202708\n",
              "9752  2019-10-01 02:36:52 UTC  ...  d0132069-5827-4ebf-a1b3-b16496c9b396\n",
              "9764  2019-10-01 02:36:53 UTC  ...  618e9a0d-92f7-490f-88bc-6f0b01d0c9f1\n",
              "9773  2019-10-01 02:36:54 UTC  ...  4d49cbe8-007a-4fbd-ad5a-944eabdcee12\n",
              "\n",
              "[128 rows x 9 columns]"
            ]
          },
          "metadata": {
            "tags": []
          },
          "execution_count": 39
        }
      ]
    },
    {
      "cell_type": "code",
      "metadata": {
        "id": "GA-qeBwUDdAe",
        "outputId": "04ce95fa-c133-42a3-d05c-cbe093c3f3c8",
        "colab": {
          "base_uri": "https://localhost:8080/"
        }
      },
      "source": [
        "print(Oct_df.isnull().sum())"
      ],
      "execution_count": 33,
      "outputs": [
        {
          "output_type": "stream",
          "text": [
            "event_time          0\n",
            "event_type          0\n",
            "product_id          0\n",
            "category_id         0\n",
            "category_code    3277\n",
            "brand            1442\n",
            "price               0\n",
            "user_id             0\n",
            "user_session        0\n",
            "dtype: int64\n"
          ],
          "name": "stdout"
        }
      ]
    },
    {
      "cell_type": "code",
      "metadata": {
        "id": "If-g_gIYFcUB",
        "outputId": "96daf757-458d-4a79-8265-ffd709f10551",
        "colab": {
          "base_uri": "https://localhost:8080/"
        }
      },
      "source": [
        "## hierarchical code - we can split by digits into up to 3 levels\n",
        "print(Nov_df[\"category_code\"].sample(frac=0.01).nunique())\n",
        "Nov_df[\"category_code\"].value_counts()"
      ],
      "execution_count": 10,
      "outputs": [
        {
          "output_type": "stream",
          "text": [
            "6\n"
          ],
          "name": "stdout"
        },
        {
          "output_type": "execute_result",
          "data": {
            "text/plain": [
              "electronics.smartphone         474\n",
              "computers.notebook              66\n",
              "electronics.clocks              56\n",
              "electronics.video.tv            56\n",
              "electronics.audio.headphone     55\n",
              "                              ... \n",
              "electronics.audio.acoustic       1\n",
              "apparel.dress                    1\n",
              "auto.accessories.winch           1\n",
              "computers.components.memory      1\n",
              "computers.components.hdd         1\n",
              "Name: category_code, Length: 66, dtype: int64"
            ]
          },
          "metadata": {
            "tags": []
          },
          "execution_count": 10
        }
      ]
    },
    {
      "cell_type": "code",
      "metadata": {
        "id": "Cx9PJwq7FjyZ",
        "outputId": "8c0a6947-aad7-4168-add5-a09e87e0a7ca",
        "colab": {
          "base_uri": "https://localhost:8080/"
        }
      },
      "source": [
        "Nov_df[\"category_code_level1\"] = Nov_df[\"category_code\"].str.split(\".\",expand=True)[0].astype('category')\n",
        "#Nov_df['category_id_right_3'] = Nov_df['category_id'].str[-3:]\n",
        "\n",
        "\n",
        "print(Nov_df[\"category_code_level1\"].nunique())\n",
        "Nov_df[\"category_code_level1\"].value_counts()"
      ],
      "execution_count": 11,
      "outputs": [
        {
          "output_type": "stream",
          "text": [
            "10\n"
          ],
          "name": "stdout"
        },
        {
          "output_type": "execute_result",
          "data": {
            "text/plain": [
              "electronics     686\n",
              "computers       134\n",
              "appliances      125\n",
              "apparel         115\n",
              "furniture       111\n",
              "construction     53\n",
              "auto             21\n",
              "kids             14\n",
              "accessories       7\n",
              "sport             4\n",
              "Name: category_code_level1, dtype: int64"
            ]
          },
          "metadata": {
            "tags": []
          },
          "execution_count": 11
        }
      ]
    },
    {
      "cell_type": "code",
      "metadata": {
        "id": "6_31VnlBF9yo",
        "outputId": "739ac35f-4946-4108-d50d-4da0e81d8da4",
        "colab": {
          "base_uri": "https://localhost:8080/"
        }
      },
      "source": [
        "Nov_df.head(20)[\"category_code\"].str.split(\".\",expand=True)[1]"
      ],
      "execution_count": 15,
      "outputs": [
        {
          "output_type": "execute_result",
          "data": {
            "text/plain": [
              "0         smartphone\n",
              "1     sewing_machine\n",
              "2                NaN\n",
              "3            kitchen\n",
              "4         smartphone\n",
              "5           notebook\n",
              "6           notebook\n",
              "7                NaN\n",
              "8                NaN\n",
              "9         smartphone\n",
              "10       living_room\n",
              "11           kitchen\n",
              "12           kitchen\n",
              "13               NaN\n",
              "14           kitchen\n",
              "15               NaN\n",
              "16               NaN\n",
              "17               NaN\n",
              "18        smartphone\n",
              "19          notebook\n",
              "Name: 1, dtype: object"
            ]
          },
          "metadata": {
            "tags": []
          },
          "execution_count": 15
        }
      ]
    },
    {
      "cell_type": "code",
      "metadata": {
        "id": "LOayKrqNHCOp",
        "outputId": "77ee89f8-0a59-4e41-f3f5-67a408a129ec",
        "colab": {
          "base_uri": "https://localhost:8080/"
        }
      },
      "source": [
        "#Nov_df['category_id_right_3'] = Nov_df['category_id'].int(str(x)[-3:])\n",
        "import math\n",
        "Nov_df['category_id_right_3']=abs(Nov_df['category_id']) % 1000\n",
        "Nov_df['category_id_right_3']"
      ],
      "execution_count": 22,
      "outputs": [
        {
          "output_type": "execute_result",
          "data": {
            "text/plain": [
              "0       655\n",
              "1        35\n",
              "2       655\n",
              "3       923\n",
              "4       655\n",
              "       ... \n",
              "1995    734\n",
              "1996    655\n",
              "1997    243\n",
              "1998    403\n",
              "1999    167\n",
              "Name: category_id_right_3, Length: 2000, dtype: int64"
            ]
          },
          "metadata": {
            "tags": []
          },
          "execution_count": 22
        }
      ]
    }
  ]
}